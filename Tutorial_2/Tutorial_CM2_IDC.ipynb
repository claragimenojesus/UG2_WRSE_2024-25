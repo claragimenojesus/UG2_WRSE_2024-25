{
  "cells": [
    {
      "cell_type": "markdown",
      "metadata": {
        "id": "view-in-github",
        "colab_type": "text"
      },
      "source": [
        "<a href=\"https://colab.research.google.com/github/claragimenojesus/UG2_WRSE_2024-25/blob/main/Tutorial_2/Tutorial_CM2_IDC.ipynb\" target=\"_parent\"><img src=\"https://colab.research.google.com/assets/colab-badge.svg\" alt=\"Open In Colab\"/></a>"
      ]
    },
    {
      "cell_type": "markdown",
      "metadata": {
        "id": "eJ83VjGjKzut"
      },
      "source": [
        "**EXERCISE 4.1 Creating a rainfall intensity-duration curve.**\n",
        "\n",
        "In this tutorial you will be creating an intensity-duration curve (IDC) from precipitation time series. In hydrology, especially when it comes to flooding, not just the quantity of precipitation in a catchment matters, but also the timespan in which that precipitation occurs. In an urban environment, for example, a steady drizzle should not cause problems as the sewer capacity is sufficient to drain a steady rather low flow, but a short intense rainfall may cause local flooding if more water flows into the sewer than the system can carry off in a similar timespan - even if that intense spell has a smaller total depth than the daylong drizzle. This temporal distribution of precipitation is captured in IDCs. They represent, for a certain duration (x coordinate), the maximum intensity (averaged over that duration, y coordinate) which has been observed (or is expected); or conversely, the maximum time span (x coordinate) over which a certain intensity (averaged, y coordinate) has been observed (or is expected).\n",
        "\n",
        "You will be working with the dataset in ex4_1.csv. This is a dataset with points in time, not precipitation depths. What does this mean? The data are raw data from a tipping bucket rain gauge which registers the time after each 0.2mm (in this case) of rainfall.\n",
        "\n",
        "The very first step is to convert this to a time series of rainfall depths.\n"
      ]
    },
    {
      "cell_type": "code",
      "execution_count": 4,
      "metadata": {
        "id": "_j4yLBY_Kzuv"
      },
      "outputs": [],
      "source": [
        "import pandas as pd\n",
        "import numpy as np\n",
        "import matplotlib.pyplot as plt\n",
        "from datetime import datetime, timedelta"
      ]
    },
    {
      "cell_type": "markdown",
      "metadata": {
        "id": "0pbUUSrJKzuw"
      },
      "source": [
        "First, let's load the data"
      ]
    },
    {
      "cell_type": "code",
      "execution_count": 5,
      "metadata": {
        "id": "n0kZ2kr9Kzux"
      },
      "outputs": [],
      "source": [
        "csv_path = \"https://raw.githubusercontent.com/claragimenojesus/UG2_WRSE_2024-25/refs/heads/main/Tutorial_2/data/ex4_1.csv\"\n",
        "buckets = pd.read_csv(csv_path, header=None).values.flatten()  # Assuming the data is in one column"
      ]
    },
    {
      "cell_type": "markdown",
      "metadata": {
        "id": "BqMt1mLDKzuy"
      },
      "source": [
        "Print the first 5 elements of the data"
      ]
    },
    {
      "cell_type": "code",
      "execution_count": null,
      "metadata": {
        "id": "L0AbNOWwKzuy",
        "outputId": "9907cbbb-29fd-490a-b5c2-0f6d205e496e"
      },
      "outputs": [
        {
          "name": "stdout",
          "output_type": "stream",
          "text": [
            "['2014-08-10 18:37:13' '2014-08-10 19:51:58' '2014-08-10 20:31:28'\n",
            " '2014-08-10 20:35:34' '2014-08-10 20:39:30']\n"
          ]
        }
      ],
      "source": [
        "print(buckets[:5])"
      ]
    },
    {
      "cell_type": "markdown",
      "metadata": {
        "id": "hIut8b7aKzuz"
      },
      "source": [
        "We need to aggregate this to 5 minute intervals. Let's refer to them with indices, taking 2014-08-10 18:35 as a reference. The index then indicates the number of 5min intervals expired since that reference point in time.\n"
      ]
    },
    {
      "cell_type": "code",
      "execution_count": null,
      "metadata": {
        "id": "xDY_0mjFKzu0"
      },
      "outputs": [],
      "source": [
        "reftime = pd.to_datetime(\"2014-08-10 18:35:00\")"
      ]
    },
    {
      "cell_type": "markdown",
      "metadata": {
        "id": "bslOoYIhKzu0"
      },
      "source": [
        "We then create 5-minute chunks"
      ]
    },
    {
      "cell_type": "code",
      "execution_count": null,
      "metadata": {
        "id": "6MonnNa3Kzu1",
        "outputId": "5de8d6bd-8ce7-4408-cbb4-127b598e814e"
      },
      "outputs": [
        {
          "data": {
            "text/plain": [
              "TimedeltaIndex([  '0 days 00:02:13',   '0 days 01:16:58',   '0 days 01:56:28',\n",
              "                  '0 days 02:00:34',   '0 days 02:04:30',   '0 days 02:11:12',\n",
              "                  '0 days 02:16:48',   '0 days 02:30:26',   '0 days 02:54:41',\n",
              "                  '4 days 21:25:26',\n",
              "                ...\n",
              "                '875 days 23:41:33', '875 days 23:47:47', '875 days 23:54:58',\n",
              "                '875 days 23:58:55', '876 days 00:05:44', '876 days 00:10:03',\n",
              "                '876 days 00:17:28', '876 days 00:26:46', '876 days 00:54:07',\n",
              "                '876 days 02:01:00'],\n",
              "               dtype='timedelta64[ns]', length=5802, freq=None)"
            ]
          },
          "execution_count": 58,
          "metadata": {},
          "output_type": "execute_result"
        }
      ],
      "source": [
        "(buckets_datetime - reftime)"
      ]
    },
    {
      "cell_type": "code",
      "execution_count": null,
      "metadata": {
        "id": "tRjdNyMSKzu1",
        "outputId": "b3f482e5-b9b7-4a8c-c0e9-f39c6567b4a3"
      },
      "outputs": [
        {
          "data": {
            "text/plain": [
              "Int64Index([     0,     15,     23,     24,     24,     26,     27,     30,\n",
              "                34,   1409,\n",
              "            ...\n",
              "            252284, 252285, 252286, 252287, 252289, 252290, 252291, 252293,\n",
              "            252298, 252312],\n",
              "           dtype='int64', length=5802)"
            ]
          },
          "execution_count": 33,
          "metadata": {},
          "output_type": "execute_result"
        }
      ],
      "source": [
        "buckets_datetime = pd.to_datetime(buckets)\n",
        "\n",
        "# Calculate 5-minute chunks (in terms of 5-minute intervals since reftime)\n",
        "buckets_5minchunks = ((buckets_datetime - reftime).total_seconds() // 300).astype(int) # note 5min=5*60=300s\n",
        "buckets_5minchunks"
      ]
    },
    {
      "cell_type": "markdown",
      "metadata": {
        "id": "8h8e0EGIKzu1"
      },
      "source": [
        "Note the factor - here we convert the timedelta object stored as default in nanoseconds to seconds. The \"//\" carries out integer division. The output of this operator will be the quotient rounded off to the closest whole number.\n"
      ]
    },
    {
      "cell_type": "markdown",
      "metadata": {
        "id": "uBasftToKzu2"
      },
      "source": [
        "Now sum the ticks in each 5-minute block, each representing 0.2mm of depth.\\\n",
        "The numpy bincount function counts the number of occurences of each value in array of non-negative ints."
      ]
    },
    {
      "cell_type": "code",
      "execution_count": null,
      "metadata": {
        "id": "XHi4kFi6Kzu2",
        "outputId": "06ae3345-b0ae-4dc7-913b-f100ac8c52e2"
      },
      "outputs": [
        {
          "data": {
            "text/plain": [
              "array([0.2, 0. , 0. , 0. , 0. , 0. , 0. , 0. , 0. , 0. , 0. , 0. , 0. ,\n",
              "       0. , 0. , 0.2, 0. , 0. , 0. , 0. ])"
            ]
          },
          "execution_count": 68,
          "metadata": {},
          "output_type": "execute_result"
        }
      ],
      "source": [
        "precip = np.bincount(buckets_5minchunks, weights=np.full(len(buckets_5minchunks), 0.2))\n",
        "precip[0:20] # you can check the values by printing the precip array. You will see that 0.2 mm depth of precipitation are recorded for the first index (0), index=15 and so on"
      ]
    },
    {
      "cell_type": "markdown",
      "metadata": {
        "id": "niaqE6juKzu2"
      },
      "source": [
        "Next create the corresponding time series. Remember that in precipitation time series, the precipitation is reported along with the time after it came down."
      ]
    },
    {
      "cell_type": "code",
      "execution_count": null,
      "metadata": {
        "id": "DX_1yjXyKzu2",
        "outputId": "46965853-67c3-430a-bff8-f39c7a62ecd5"
      },
      "outputs": [
        {
          "data": {
            "text/plain": [
              "DatetimeIndex(['2014-08-10 18:40:00', '2014-08-10 18:45:00',\n",
              "               '2014-08-10 18:50:00', '2014-08-10 18:55:00',\n",
              "               '2014-08-10 19:00:00', '2014-08-10 19:05:00',\n",
              "               '2014-08-10 19:10:00', '2014-08-10 19:15:00',\n",
              "               '2014-08-10 19:20:00', '2014-08-10 19:25:00',\n",
              "               ...\n",
              "               '2017-01-02 19:55:00', '2017-01-02 20:00:00',\n",
              "               '2017-01-02 20:05:00', '2017-01-02 20:10:00',\n",
              "               '2017-01-02 20:15:00', '2017-01-02 20:20:00',\n",
              "               '2017-01-02 20:25:00', '2017-01-02 20:30:00',\n",
              "               '2017-01-02 20:35:00', '2017-01-02 20:40:00'],\n",
              "              dtype='datetime64[ns]', length=252313, freq=None)"
            ]
          },
          "execution_count": 72,
          "metadata": {},
          "output_type": "execute_result"
        }
      ],
      "source": [
        "time = reftime + pd.to_timedelta(np.arange(1,len(precip)+1) * 5, unit='min')\n",
        "time"
      ]
    },
    {
      "cell_type": "markdown",
      "metadata": {
        "id": "eLlBjMqKKzu2"
      },
      "source": [
        "Now plot the timeseries as a bar plot"
      ]
    },
    {
      "cell_type": "code",
      "execution_count": null,
      "metadata": {
        "id": "zO-zT6JlKzu2",
        "outputId": "03110015-35d4-483e-cb6f-062f9d5ceec4"
      },
      "outputs": [
        {
          "data": {
            "image/png": "[encoded data removed]",
            "text/plain": [
              "<Figure size 1440x504 with 1 Axes>"
            ]
          },
          "metadata": {
            "needs_background": "light"
          },
          "output_type": "display_data"
        }
      ],
      "source": [
        "plt.figure(figsize=(20,7))\n",
        "plt.bar(time, precip)\n",
        "plt.xlabel('Time')\n",
        "plt.ylabel('5-minute rainfall depth (mm/(5min))')\n",
        "plt.show()"
      ]
    },
    {
      "cell_type": "markdown",
      "metadata": {
        "id": "ADrL_PD5Kzu2"
      },
      "source": [
        "This plot is not very clear: a great many low precipitation depths. For clarity, let's aggregate to days. From the times array, create an equally long array, keeping only the (next) day information"
      ]
    },
    {
      "cell_type": "code",
      "execution_count": null,
      "metadata": {
        "id": "4ywWIMgyKzu2",
        "outputId": "3475e7bb-4b90-43a0-8c8b-561d816ee6fc"
      },
      "outputs": [
        {
          "data": {
            "text/plain": [
              "DatetimeIndex(['2014-08-11', '2014-08-11', '2014-08-11', '2014-08-11',\n",
              "               '2014-08-11', '2014-08-11', '2014-08-11', '2014-08-11',\n",
              "               '2014-08-11', '2014-08-11',\n",
              "               ...\n",
              "               '2017-01-03', '2017-01-03', '2017-01-03', '2017-01-03',\n",
              "               '2017-01-03', '2017-01-03', '2017-01-03', '2017-01-03',\n",
              "               '2017-01-03', '2017-01-03'],\n",
              "              dtype='datetime64[ns]', length=252313, freq=None)"
            ]
          },
          "execution_count": 80,
          "metadata": {},
          "output_type": "execute_result"
        }
      ],
      "source": [
        "time_day = (time + pd.Timedelta(days=1)).floor('D')\n",
        "time_day"
      ]
    },
    {
      "cell_type": "markdown",
      "metadata": {
        "id": "smNGNm1EKzu3"
      },
      "source": [
        "Extract unique days, and their indices where 0 corresponds to the first day"
      ]
    },
    {
      "cell_type": "code",
      "execution_count": null,
      "metadata": {
        "id": "8K5cEnWRKzu3"
      },
      "outputs": [],
      "source": [
        "days, day_indices = np.unique(time_day, return_inverse=True)"
      ]
    },
    {
      "cell_type": "markdown",
      "metadata": {
        "id": "ig-HSllXKzu3"
      },
      "source": [
        "And sum the precipitation per day index"
      ]
    },
    {
      "cell_type": "code",
      "execution_count": null,
      "metadata": {
        "id": "chRi-YPeKzu3"
      },
      "outputs": [],
      "source": [
        "precip_daily = np.bincount(day_indices, weights=precip)"
      ]
    },
    {
      "cell_type": "markdown",
      "metadata": {
        "id": "BLtMi31CKzu3"
      },
      "source": [
        "Now we plot again"
      ]
    },
    {
      "cell_type": "code",
      "execution_count": null,
      "metadata": {
        "id": "XLm8aAqIKzu3",
        "outputId": "c8bc7723-e8af-40a9-b136-eab409222179"
      },
      "outputs": [
        {
          "data": {
            "image/png": "[encoded data removed]",
            "text/plain": [
              "<Figure size 1440x504 with 1 Axes>"
            ]
          },
          "metadata": {
            "needs_background": "light"
          },
          "output_type": "display_data"
        }
      ],
      "source": [
        "plt.figure(figsize=(20,7))\n",
        "plt.bar(days, precip_daily)\n",
        "plt.xlabel('Time')\n",
        "plt.ylabel('Daily rainfall depth (mm/day)')\n",
        "plt.show()"
      ]
    },
    {
      "cell_type": "markdown",
      "metadata": {
        "id": "ew9bKROoKzu3"
      },
      "source": [
        "This is a lot clearer!"
      ]
    },
    {
      "cell_type": "markdown",
      "metadata": {
        "id": "0i4cgGqRKzu3"
      },
      "source": [
        "Now it is time to construct the intensity-duration curve. The approach you will take is to, as it were, slide time windows of different 'widths' (durations, in your case multiples of the 5-minute time base) across the entire time series, summing the precipitation depths in the window. This will lead to an array for each duration. The next step is to take the maximum (summed) depth for each duration, and then to divide that by the duration to get the intensity. In IDCs, duration is often expressed in hours, and intensity in mm/h."
      ]
    },
    {
      "cell_type": "markdown",
      "metadata": {
        "id": "kDLhzoQJKzu3"
      },
      "source": [
        "**TASK: create a vector of durations expressed as multiples of 5min, ranging from 5min to 72h (3 days)**"
      ]
    },
    {
      "cell_type": "code",
      "execution_count": null,
      "metadata": {
        "id": "bu49w-wwKzu3"
      },
      "outputs": [],
      "source": [
        "durations = np.arange(1, 72 * 12 + 1)"
      ]
    },
    {
      "cell_type": "markdown",
      "metadata": {
        "id": "gRugtfo5Kzu3"
      },
      "source": [
        "**TASK: initialize the intensities array, for e.g. with zeros**"
      ]
    },
    {
      "cell_type": "code",
      "execution_count": null,
      "metadata": {
        "id": "LmaT3YGzKzu3"
      },
      "outputs": [],
      "source": [
        "intensities = np.zeros(len(durations))"
      ]
    },
    {
      "cell_type": "markdown",
      "metadata": {
        "id": "90aXnsPDKzu4"
      },
      "source": [
        "**TASK: For each duration, find the maximum total depth over the rainfall series**\\\n",
        "Do this by 'sliding' a window across te time series, for each duration, taking the maximum for each.\\\n",
        "TIP: you can program the sliding window with loops"
      ]
    },
    {
      "cell_type": "code",
      "execution_count": null,
      "metadata": {
        "id": "EhlEjPJ7Kzu4"
      },
      "outputs": [],
      "source": [
        "for i in range(len(durations)):\n",
        "    window_depths = pd.Series(precip).rolling(window=durations[i]).sum()  # Total depth for each sliding window\n",
        "    max_depth = window_depths.max()  # Maximum across windows\n",
        "    intensities[i] = max_depth / durations[i] * 12  # Convert to mm/h\n"
      ]
    },
    {
      "cell_type": "markdown",
      "metadata": {
        "id": "scJ4guATKzu4"
      },
      "source": [
        "Now plot the IDC curve. Often, the x-axis (duration) is logarithmic."
      ]
    },
    {
      "cell_type": "code",
      "execution_count": null,
      "metadata": {
        "id": "XDU7K29IKzu4",
        "outputId": "6d2517e3-09cd-4c9d-9617-cc3b9361c028"
      },
      "outputs": [
        {
          "data": {
            "image/png": "[encoded data removed]",
            "text/plain": [
              "<Figure size 432x288 with 1 Axes>"
            ]
          },
          "metadata": {
            "needs_background": "light"
          },
          "output_type": "display_data"
        }
      ],
      "source": [
        "plt.figure()\n",
        "plt.semilogx(durations / 12, intensities)\n",
        "plt.xlabel('Duration (h)')\n",
        "plt.ylabel('Maximum precipitation intensity (mm/h)')\n",
        "plt.title('Maximum Intensity-Duration Curve')\n",
        "plt.show()"
      ]
    },
    {
      "cell_type": "markdown",
      "metadata": {
        "id": "CQ-51v3ZKzu4"
      },
      "source": [
        "NOTE: should the curve not decrease monotonically towards longer durations? This is what we'd expect: after all, if a 5h storm has an average intensity of 10mm/h, wouldn't any 4h subset of that storm have an intensity of at least 10mm/h?\\\n",
        "\n",
        "ANSWER: Not necessarily, as you are dealing with observed rainfall series and average intensities. As an example, take a 3h storm, with hourly intensities of 2mm/h, 1mm/h and 2mm/h, respectively. The maximum (average) intensity for a 2h duration as observed is 1.5mm/h, but for 3h it is (5/3)mm/h=1.67mm/h > 1.5mm/h. This is because the storm intensity fluctuates, and this would not have occurred had the intensities been 2mm/h, 1mm/h and then 1mm/h. The non-monotonicity is an artefact of the data and of the empirical approach."
      ]
    }
  ],
  "metadata": {
    "kernelspec": {
      "display_name": "mosart2",
      "language": "python",
      "name": "mosart2"
    },
    "language_info": {
      "codemirror_mode": {
        "name": "ipython",
        "version": 3
      },
      "file_extension": ".py",
      "mimetype": "text/x-python",
      "name": "python",
      "nbconvert_exporter": "python",
      "pygments_lexer": "ipython3",
      "version": "3.8.10"
    },
    "colab": {
      "provenance": [],
      "include_colab_link": true
    }
  },
  "nbformat": 4,
  "nbformat_minor": 0
}